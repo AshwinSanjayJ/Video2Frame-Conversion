{
 "cells": [
  {
   "cell_type": "markdown",
   "metadata": {},
   "source": [
    "# 1. Import Dependencies"
   ]
  },
  {
   "cell_type": "code",
   "execution_count": 4,
   "metadata": {},
   "outputs": [],
   "source": [
    "import numpy as np \n",
    "import cv2 as cv"
   ]
  },
  {
   "cell_type": "code",
   "execution_count": 4,
   "metadata": {},
   "outputs": [],
   "source": [
    "def invert_image(frame):\n",
    "    inverted_frame = cv.flip(frame,1)\n",
    "    return inverted_frame\n",
    "cap = cv.VideoCapture(0)\n",
    "if not cap.isOpened():\n",
    "    print(\"Error:Could not open camera\")\n",
    "    exit()\n",
    "while True: \n",
    "    ret,frame = cap.read()\n",
    "    if not cap.isOpened():\n",
    "        print(\"Error: Failed to capture frame.\")\n",
    "        break\n",
    "    inverted_frame = invert_image(frame)\n",
    "    cv.imshow(\"Video\",inverted_frame)\n",
    "    if cv.waitKey(1) == ord('q'):\n",
    "        break\n",
    "cap.release()\n",
    "cv.destroyAllWindows()"
   ]
  },
  {
   "cell_type": "markdown",
   "metadata": {},
   "source": [
    "# Loading Haar Cascade Classifiers"
   ]
  },
  {
   "cell_type": "code",
   "execution_count": 8,
   "metadata": {},
   "outputs": [],
   "source": [
    "cap = cv.VideoCapture(0)\n",
    "def invert_image(frame):\n",
    "    inverted_frame = cv.flip(frame,1)\n",
    "    return inverted_frame\n",
    "\n",
    "# Haar Cascade Classifiers\n",
    "face_cascade = cv.CascadeClassifier(cv.data.haarcascades + 'haarcascade_frontalface_default.xml')\n",
    "eye_cascade = cv.CascadeClassifier(cv.data.haarcascades + 'haarcascade_eye.xml')\n",
    "\n",
    "if not cap.isOpened():\n",
    "    print(\"Error:Could not open camera\")\n",
    "    exit()\n",
    "while True: \n",
    "    ret,frame = cap.read()\n",
    "    if not cap.isOpened():\n",
    "        print(\"Error: Failed to capture frame.\")\n",
    "        break\n",
    "    inverted_frame = invert_image(frame)\n",
    "\n",
    "    # We need grayscale image for this classification \n",
    "    gray = cv.cvtColor(inverted_frame,cv.COLOR_BGR2GRAY)\n",
    "\n",
    "    #This returns all location of the face in terms of position  \n",
    "    faces = face_cascade.detectMultiScale(gray,1.3,5)\n",
    "    for(x, y, w, h) in faces:\n",
    "        cv.rectangle(inverted_frame, (x,y), (x+w, y+h), (255,0,0),5)\n",
    "        roi_gray = gray[y:y+w,x:x+w]\n",
    "        roi_color = inverted_frame[y:y+h,x:x+w]\n",
    "        eyes = eye_cascade.detectMultiScale(roi_gray,1.3,5)\n",
    "        for (ex,ey,ew,eh) in eyes:\n",
    "            cv.rectangle(roi_color,(ex,ey), (ex+ew , ey+eh),(0,255,0))\n",
    "\n",
    "    cv.imshow(\"Video\",inverted_frame)\n",
    "    if cv.waitKey(1) == ord('q'):\n",
    "        break\n",
    "cap.release()\n",
    "cv.destroyAllWindows()"
   ]
  },
  {
   "cell_type": "code",
   "execution_count": null,
   "metadata": {},
   "outputs": [],
   "source": []
  }
 ],
 "metadata": {
  "kernelspec": {
   "display_name": "env",
   "language": "python",
   "name": "python3"
  },
  "language_info": {
   "codemirror_mode": {
    "name": "ipython",
    "version": 3
   },
   "file_extension": ".py",
   "mimetype": "text/x-python",
   "name": "python",
   "nbconvert_exporter": "python",
   "pygments_lexer": "ipython3",
   "version": "3.9.18"
  }
 },
 "nbformat": 4,
 "nbformat_minor": 2
}

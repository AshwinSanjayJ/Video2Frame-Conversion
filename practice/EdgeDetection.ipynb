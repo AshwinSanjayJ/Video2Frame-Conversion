{
 "cells": [
  {
   "cell_type": "markdown",
   "metadata": {},
   "source": [
    "# !---For Edge Detection We are gonna load the given image using python in openCV, This will give a representation of Numpy Array and there are number of pre-processing steps before applying final edge detection algorithm.---!\n",
    "\n",
    "# 1. First we use cv.imread() to load the image into python.\n",
    "\n",
    "# 2. Second we use cv.cvtColor() to convert the image into Grayscale.\n",
    "\n",
    "# 3. Third we use cv.GaussianBlur() to reduce the noise in the image.This improves the edge detection final result.\n",
    "\n",
    "# 4. Fourth we use cv.Canny() edge detection algorithm. This allows us to find the edges in the images."
   ]
  },
  {
   "cell_type": "markdown",
   "metadata": {},
   "source": [
    "# 1. Import Dependencies"
   ]
  },
  {
   "cell_type": "code",
   "execution_count": 3,
   "metadata": {},
   "outputs": [],
   "source": [
    "import cv2 as cv\n",
    "\n",
    "# import os for file paths\n",
    "import os "
   ]
  },
  {
   "cell_type": "markdown",
   "metadata": {},
   "source": [
    "# 2. Load Images"
   ]
  },
  {
   "cell_type": "code",
   "execution_count": 14,
   "metadata": {},
   "outputs": [],
   "source": [
    "# Import Matplot lib to vizualize \n",
    "\n",
    "import matplotlib.pyplot as plt"
   ]
  },
  {
   "cell_type": "code",
   "execution_count": 7,
   "metadata": {},
   "outputs": [],
   "source": [
    "# Define the file path to the image \n",
    "IMG_PATH = os.path.join('../image_assets/cycle.jpg')"
   ]
  },
  {
   "cell_type": "code",
   "execution_count": 6,
   "metadata": {},
   "outputs": [
    {
     "ename": "NameError",
     "evalue": "name 'plt' is not defined",
     "output_type": "error",
     "traceback": [
      "\u001b[1;31m---------------------------------------------------------------------------\u001b[0m",
      "\u001b[1;31mNameError\u001b[0m                                 Traceback (most recent call last)",
      "Cell \u001b[1;32mIn[6], line 3\u001b[0m\n\u001b[0;32m      1\u001b[0m \u001b[38;5;66;03m# Read in image\u001b[39;00m\n\u001b[0;32m      2\u001b[0m img \u001b[38;5;241m=\u001b[39m cv\u001b[38;5;241m.\u001b[39mimread(\u001b[38;5;124m'\u001b[39m\u001b[38;5;124m../image_assets/cycle.jpg\u001b[39m\u001b[38;5;124m'\u001b[39m)\n\u001b[1;32m----> 3\u001b[0m \u001b[43mplt\u001b[49m\u001b[38;5;241m.\u001b[39mimshow(cv\u001b[38;5;241m.\u001b[39mcvtColor(img,cv\u001b[38;5;241m.\u001b[39mCOLOR_BGR2RGB))\n\u001b[0;32m      4\u001b[0m plt\u001b[38;5;241m.\u001b[39mshow()\n",
      "\u001b[1;31mNameError\u001b[0m: name 'plt' is not defined"
     ]
    }
   ],
   "source": [
    "# Read in image\n",
    "img = cv.imread('../image_assets/cycle.jpg')\n",
    "plt.imshow(cv.cvtColor(img,cv.COLOR_BGR2RGB))\n",
    "plt.show()"
   ]
  },
  {
   "cell_type": "code",
   "execution_count": 28,
   "metadata": {},
   "outputs": [],
   "source": [
    "# Resize the Image\n",
    "\n",
    "resizeimg = cv.resize(img, (int(img.shape[1]/2),int(img.shape[0]/2)))\n",
    "\n",
    "# Image Height \n",
    "\n",
    "img.shape\n",
    "\n",
    "# View image using OpenCV\n",
    "\n",
    "cv.imshow(\"Frame View\",resizeimg)\n",
    "cv.waitKey(0)\n",
    "cv.destroyAllWindows()"
   ]
  },
  {
   "cell_type": "code",
   "execution_count": 33,
   "metadata": {},
   "outputs": [
    {
     "data": {
      "text/plain": [
       "(2738, 2190, 3)"
      ]
     },
     "execution_count": 33,
     "metadata": {},
     "output_type": "execute_result"
    }
   ],
   "source": [
    "# Image Dimensions \n",
    "img.shape"
   ]
  },
  {
   "cell_type": "code",
   "execution_count": 34,
   "metadata": {},
   "outputs": [
    {
     "data": {
      "text/plain": [
       "2190"
      ]
     },
     "execution_count": 34,
     "metadata": {},
     "output_type": "execute_result"
    }
   ],
   "source": [
    "# Image Width\n",
    "img.shape[1]"
   ]
  },
  {
   "cell_type": "code",
   "execution_count": 35,
   "metadata": {},
   "outputs": [
    {
     "data": {
      "text/plain": [
       "2738"
      ]
     },
     "execution_count": 35,
     "metadata": {},
     "output_type": "execute_result"
    }
   ],
   "source": [
    "# Image Height\n",
    "img.shape[0]"
   ]
  },
  {
   "cell_type": "code",
   "execution_count": 36,
   "metadata": {},
   "outputs": [
    {
     "data": {
      "text/plain": [
       "(1095, 1369)"
      ]
     },
     "execution_count": 36,
     "metadata": {},
     "output_type": "execute_result"
    }
   ],
   "source": [
    "# Resize the Dimensions\n",
    "(int(img.shape[1]/2),int(img.shape[0]/2))"
   ]
  },
  {
   "cell_type": "markdown",
   "metadata": {},
   "source": [
    "# 3. Edge Detection"
   ]
  },
  {
   "cell_type": "code",
   "execution_count": 39,
   "metadata": {},
   "outputs": [],
   "source": [
    "# Apply Canny Algorithm\n",
    "canny = cv.Canny(img, threshold1=180, threshold2=200)  #threshold1 is lower threshold and threshold2 is upper threshold\n",
    "\n",
    "# Tighter the threshold lower the edges and Wider the threshold more the edges\n",
    "\n",
    "# Resize the Image\n",
    "\n",
    "resizeimg = cv.resize(canny, (int(img.shape[1]/2),int(img.shape[0]/2)))\n",
    "\n",
    "# Image Height \n",
    "\n",
    "img.shape\n",
    "\n",
    "# View image using OpenCV\n",
    "\n",
    "cv.imshow(\"Frame View\",resizeimg)\n",
    "cv.waitKey(0)\n",
    "cv.destroyAllWindows()"
   ]
  },
  {
   "cell_type": "markdown",
   "metadata": {},
   "source": [
    "# The above output contains n number of noises to reduce the noise in the image we use 5x5 Gaussian filter"
   ]
  },
  {
   "cell_type": "code",
   "execution_count": 5,
   "metadata": {},
   "outputs": [
    {
     "ename": "NameError",
     "evalue": "name 'img' is not defined",
     "output_type": "error",
     "traceback": [
      "\u001b[1;31m---------------------------------------------------------------------------\u001b[0m",
      "\u001b[1;31mNameError\u001b[0m                                 Traceback (most recent call last)",
      "Cell \u001b[1;32mIn[5], line 2\u001b[0m\n\u001b[0;32m      1\u001b[0m \u001b[38;5;66;03m# Apply Gaussian Blur\u001b[39;00m\n\u001b[1;32m----> 2\u001b[0m blur \u001b[38;5;241m=\u001b[39m cv\u001b[38;5;241m.\u001b[39mGaussianBlur(\u001b[43mimg\u001b[49m,(\u001b[38;5;241m5\u001b[39m,\u001b[38;5;241m5\u001b[39m),\u001b[38;5;241m0\u001b[39m)\n\u001b[0;32m      4\u001b[0m \u001b[38;5;66;03m# Apply Canny Algorithm\u001b[39;00m\n\u001b[0;32m      5\u001b[0m canny \u001b[38;5;241m=\u001b[39m cv\u001b[38;5;241m.\u001b[39mCanny(blur, threshold1\u001b[38;5;241m=\u001b[39m\u001b[38;5;241m200\u001b[39m, threshold2\u001b[38;5;241m=\u001b[39m\u001b[38;5;241m210\u001b[39m)  \u001b[38;5;66;03m#threshold1 is lower threshold and threshold2 is upper threshold\u001b[39;00m\n",
      "\u001b[1;31mNameError\u001b[0m: name 'img' is not defined"
     ]
    }
   ],
   "source": [
    "# Apply Gaussian Blur\n",
    "blur = cv.GaussianBlur(img,(5,5),0)\n",
    "\n",
    "# Apply Canny Algorithm\n",
    "canny = cv.Canny(blur, threshold1=200, threshold2=210)  #threshold1 is lower threshold and threshold2 is upper threshold\n",
    "\n",
    "# Tighter the threshold lower the edges and Wider the threshold more the edges\n",
    "\n",
    "# Resize the Image\n",
    "\n",
    "resizeimg = cv.resize(canny, (int(img.shape[1]/2),int(img.shape[0]/2)))\n",
    "\n",
    "# Image Height \n",
    "\n",
    "img.shape\n",
    "\n",
    "# View image using OpenCV\n",
    "\n",
    "cv.imshow(\"Frame View\",resizeimg)\n",
    "cv.waitKey(0)\n",
    "cv.destroyAllWindows()"
   ]
  },
  {
   "cell_type": "markdown",
   "metadata": {},
   "source": [
    "# To reduce more of the noise we use the Grayscale "
   ]
  },
  {
   "cell_type": "code",
   "execution_count": 4,
   "metadata": {},
   "outputs": [
    {
     "ename": "NameError",
     "evalue": "name 'img' is not defined",
     "output_type": "error",
     "traceback": [
      "\u001b[1;31m---------------------------------------------------------------------------\u001b[0m",
      "\u001b[1;31mNameError\u001b[0m                                 Traceback (most recent call last)",
      "Cell \u001b[1;32mIn[4], line 2\u001b[0m\n\u001b[0;32m      1\u001b[0m \u001b[38;5;66;03m#Apply Grayscale to the image\u001b[39;00m\n\u001b[1;32m----> 2\u001b[0m gray \u001b[38;5;241m=\u001b[39m cv\u001b[38;5;241m.\u001b[39mcvtColor(\u001b[43mimg\u001b[49m,cv\u001b[38;5;241m.\u001b[39mCOLOR_BGR2GRAY)\n\u001b[0;32m      4\u001b[0m \u001b[38;5;66;03m# Apply Gaussian Blur\u001b[39;00m\n\u001b[0;32m      5\u001b[0m blur \u001b[38;5;241m=\u001b[39m cv\u001b[38;5;241m.\u001b[39mGaussianBlur(img,(\u001b[38;5;241m5\u001b[39m,\u001b[38;5;241m5\u001b[39m),\u001b[38;5;241m0\u001b[39m)\n",
      "\u001b[1;31mNameError\u001b[0m: name 'img' is not defined"
     ]
    }
   ],
   "source": [
    "#Apply Grayscale to the image\n",
    "gray = cv.cvtColor(img,cv.COLOR_BGR2GRAY)\n",
    "\n",
    "# Apply Gaussian Blur\n",
    "blur = cv.GaussianBlur(img,(5,5),0)\n",
    "\n",
    "# Apply Canny Algorithm\n",
    "canny = cv.Canny(blur, threshold1=200, threshold2=210)  #threshold1 is lower threshold and threshold2 is upper threshold\n",
    "\n",
    "# Tighter the threshold lower the edges and Wider the threshold more the edges\n",
    "\n",
    "# Resize the Image\n",
    "\n",
    "resizeimg = cv.resize(canny, (int(img.shape[1]/2),int(img.shape[0]/2)))\n",
    "\n",
    "# Image Height \n",
    "\n",
    "img.shape\n",
    "\n",
    "# View image using OpenCV\n",
    "\n",
    "cv.imshow(\"Frame View\",resizeimg)\n",
    "cv.waitKey(0)\n",
    "cv.destroyAllWindows()"
   ]
  },
  {
   "cell_type": "markdown",
   "metadata": {},
   "source": [
    "# 4. Export Edges generated"
   ]
  },
  {
   "cell_type": "code",
   "execution_count": 56,
   "metadata": {},
   "outputs": [
    {
     "data": {
      "text/plain": [
       "True"
      ]
     },
     "execution_count": 56,
     "metadata": {},
     "output_type": "execute_result"
    }
   ],
   "source": [
    "cv.imwrite(\"Edges.jpg\",canny)"
   ]
  },
  {
   "cell_type": "code",
   "execution_count": null,
   "metadata": {},
   "outputs": [],
   "source": []
  }
 ],
 "metadata": {
  "kernelspec": {
   "display_name": "env",
   "language": "python",
   "name": "python3"
  },
  "language_info": {
   "codemirror_mode": {
    "name": "ipython",
    "version": 3
   },
   "file_extension": ".py",
   "mimetype": "text/x-python",
   "name": "python",
   "nbconvert_exporter": "python",
   "pygments_lexer": "ipython3",
   "version": "3.9.18"
  }
 },
 "nbformat": 4,
 "nbformat_minor": 2
}
